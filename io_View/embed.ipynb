{
 "cells": [
  {
   "cell_type": "markdown",
   "metadata": {},
   "source": [
    "<font size=8 face=\"courier\" color=\"magenta\">Setup Notebook</font>"
   ]
  },
  {
   "cell_type": "markdown",
   "metadata": {},
   "source": [
    "This notebooks imports all the necessary packages to run cytoscape. It's also changes the display of the notebook."
   ]
  },
  {
   "cell_type": "markdown",
   "metadata": {},
   "source": [
    "# Import Packages"
   ]
  },
  {
   "cell_type": "code",
   "execution_count": null,
   "metadata": {},
   "outputs": [],
   "source": [
    "from ipywidgets import *"
   ]
  },
  {
   "cell_type": "markdown",
   "metadata": {},
   "source": [
    "Generic Python packages"
   ]
  },
  {
   "cell_type": "code",
   "execution_count": null,
   "metadata": {
    "code_folding": []
   },
   "outputs": [],
   "source": [
    "import pandas as pd\n",
    "import numpy as np\n",
    "import time\n",
    "\n",
    "import sys\n",
    "import os\n",
    "\n",
    "import inspect\n",
    "import json\n",
    "import uuid\n",
    "import urllib.parse"
   ]
  },
  {
   "cell_type": "markdown",
   "metadata": {},
   "source": []
  },
  {
   "cell_type": "code",
   "execution_count": null,
   "metadata": {},
   "outputs": [],
   "source": []
  },
  {
   "cell_type": "markdown",
   "metadata": {},
   "source": [
    "jupyter packages"
   ]
  },
  {
   "cell_type": "code",
   "execution_count": null,
   "metadata": {},
   "outputs": [],
   "source": [
    "from ipywidgets import interact, interactive, fixed, interact_manual\n",
    "import ipywidgets as ipw\n",
    "import ipywidgets as widgets\n",
    "from IPython.core.display import HTML, display, Javascript, clear_output"
   ]
  },
  {
   "cell_type": "code",
   "execution_count": null,
   "metadata": {},
   "outputs": [],
   "source": []
  },
  {
   "cell_type": "markdown",
   "metadata": {},
   "source": [
    "<font color=\"magenta\">Helper function</font> <font color=\"blue\">showSource</font> shows source code of function"
   ]
  },
  {
   "cell_type": "code",
   "execution_count": null,
   "metadata": {},
   "outputs": [],
   "source": [
    "def showSource(func):\n",
    "    print( inspect.getsource( func ) )"
   ]
  },
  {
   "cell_type": "markdown",
   "metadata": {},
   "source": [
    "<font color=\"magenta\">Helper function</font> <font color=\"green\">to run</font> javavscript commands"
   ]
  },
  {
   "cell_type": "code",
   "execution_count": null,
   "metadata": {},
   "outputs": [],
   "source": [
    "def JS(text):\n",
    "    display(HTML(\"<script>\"+text+\"</script>\"))"
   ]
  },
  {
   "cell_type": "markdown",
   "metadata": {},
   "source": [
    "<font color=\"magenta\">Helper function</font> <font color=\"blue\">to show</font> javavscript commands"
   ]
  },
  {
   "cell_type": "code",
   "execution_count": null,
   "metadata": {},
   "outputs": [],
   "source": [
    "def viewJS(text):\n",
    "    display(Javascript(\"element.text(JSON.stringify(\"+text+\"))\"))"
   ]
  },
  {
   "cell_type": "markdown",
   "metadata": {},
   "source": [
    "# Helpers Functions"
   ]
  },
  {
   "cell_type": "markdown",
   "metadata": {},
   "source": [
    "Create the <font color=\"magenta\">io class</font>"
   ]
  },
  {
   "cell_type": "code",
   "execution_count": null,
   "metadata": {},
   "outputs": [],
   "source": [
    "class io():\n",
    "        pass"
   ]
  },
  {
   "cell_type": "markdown",
   "metadata": {},
   "source": [
    "## Helper: <font color=\"magenta\">JupyterCell</font>\n",
    "\n",
    "<font color=\"magenta\">JupyterCell</font> is a useful class that allows you to execute a specified *jupyter cell* from the command <font color=\"magenta\">JupyterCell</font><font color=\"blue\">.execute()</font>. This is used during development to run cells later in a notebook (see [visualize code](/notebooks/Source%20Code/Visualize.ipynb))."
   ]
  },
  {
   "cell_type": "code",
   "execution_count": null,
   "metadata": {},
   "outputs": [],
   "source": [
    "class JupyterCell():\n",
    " \n",
    "    def __init__(self, cell_text, js_var, text_before=\"# \", ):\n",
    "        self.cell_text= cell_text\n",
    "        self.text_before= text_before\n",
    "        self.js_var = js_var\n",
    "        self.search()\n",
    "    \n",
    "    def search(self):\n",
    "        JS(\"\"\"\n",
    "        var cell_text= \"\";\n",
    "        \"\"\"+self.js_var+\"\"\"= 0;  \n",
    "        while( ! cell_text.includes('\"\"\"+self.text_before+self.cell_text+\"\"\"')  ){\n",
    "            cell_text = Jupyter.notebook.get_cell(\"\"\"+self.js_var+\"\"\").get_text();  //.element[\"0\"].innerText #<-- Old Way\n",
    "            \"\"\"+self.js_var+\"\"\"++\n",
    "        }\n",
    "        \"\"\"+self.js_var+\"\"\"--\n",
    "        \"\"\")\n",
    "    \n",
    "    def execute(self):  #<-- This gets the Cell by using the cell text. The cell text must be unique to that cell\n",
    "        self.search()\n",
    "        JS(\"\"\"IPython.notebook.execute_cells([\"\"\"+self.js_var+\"\"\"])\"\"\")\n",
    "        \n",
    "io.JupyterCell = JupyterCell"
   ]
  },
  {
   "cell_type": "markdown",
   "metadata": {},
   "source": [
    "## Helper <font color=\"magenta\">Render Json</font>"
   ]
  },
  {
   "cell_type": "markdown",
   "metadata": {},
   "source": [
    "The class <font color=\"magenta\">RenderJSON</font> creates an interactive display for JSON objects"
   ]
  },
  {
   "cell_type": "code",
   "execution_count": null,
   "metadata": {},
   "outputs": [],
   "source": [
    "class renderJSON(object):\n",
    "    def __init__(self, json_data):\n",
    "        if isinstance(json_data, dict):\n",
    "            self.json_str = json.dumps(json_data)\n",
    "        else:\n",
    "            self.json_str = json_data\n",
    "        self.uuid = str(uuid.uuid4())\n",
    "        # This line is missed out in most of the versions of this script across the web, it is essential for this to work interleaved with print statements\n",
    "        self._ipython_display_()\n",
    "        \n",
    "    def _ipython_display_(self):\n",
    "        display(HTML('<div id=\"{}\" style=\"height: auto; width:100%;\"></div>'.format(self.uuid)))\n",
    "        display(HTML(\"\"\"<script>\n",
    "        require([\"https://rawgit.com/caldwell/renderjson/master/renderjson.js\"], function() {\n",
    "          renderjson.set_show_to_level(1)\n",
    "          document.getElementById('%s').appendChild(renderjson(%s))\n",
    "        });</script>\n",
    "        \"\"\" % (self.uuid, self.json_str)))\n",
    "        \n",
    "io.renderJSON = renderJSON"
   ]
  },
  {
   "cell_type": "markdown",
   "metadata": {},
   "source": [
    "## Helper <font color=\"magenta\">Run New Cell</font>"
   ]
  },
  {
   "cell_type": "code",
   "execution_count": null,
   "metadata": {},
   "outputs": [],
   "source": []
  },
  {
   "cell_type": "code",
   "execution_count": null,
   "metadata": {},
   "outputs": [],
   "source": [
    "def RunNewCell(code='', split=False):\n",
    "    # If split==True, then add code that makes cell half size\n",
    "    split_js = \"\"\n",
    "    if split:\n",
    "        split_js = \"\"\"\n",
    "            code.metadata.cell_style = 'split';\n",
    "            code.element.attr('style', 'float:left; width:50%;' );\n",
    "        \"\"\"\n",
    "    # Add cell to the notebook and run it\n",
    "    encoded_code = bytes_to_str(base64.b64encode(str_to_bytes(code)))\n",
    "    display(Javascript(f\"\"\"\n",
    "        var code = Jupyter.notebook.insert_cell_below('code');\n",
    "        code.set_text(atob(\"{encoded_code}\"));\n",
    "        \"\"\"+split_js+\"\"\"\n",
    "        var cell_index = Jupyter.notebook.find_cell_index(code)        \n",
    "        Jupyter.notebook.execute_cells([cell_index])\n",
    "    \"\"\"))\n",
    "    \n",
    "io.RunNewCell = RunNewCell"
   ]
  },
  {
   "cell_type": "markdown",
   "metadata": {},
   "source": [
    "## Helper Embed"
   ]
  },
  {
   "cell_type": "code",
   "execution_count": null,
   "metadata": {},
   "outputs": [],
   "source": [
    "io.embed = type(\"embed\",(),{})"
   ]
  },
  {
   "cell_type": "markdown",
   "metadata": {},
   "source": [
    "### Helper Embed <font color=\"darkKhaki\">CY.HTML</font>"
   ]
  },
  {
   "cell_type": "code",
   "execution_count": null,
   "metadata": {},
   "outputs": [],
   "source": [
    "def file(file_name, size=\"medium\"):\n",
    "    sizes = {'small':\"col-md-offset-4 col-md-4\", 'medium':\"col-md-offset-3 col-md-6\", 'large':\"col-md-offset-2 col-md-8\"}\n",
    "    my_size = sizes[size]\n",
    "    display(HTML(f\"\"\"\n",
    "    <div class=\"row\"><div class=\"col-xs-12 {my_size}\">\n",
    "    <div class=\"embed-responsive embed-responsive-4by3\" style='border-style: solid;border-width: 1px;'>\n",
    "      <iframe class=\"embed-responsive-item\" \n",
    "      src='{file_name}'></iframe></div>\n",
    "    </div></div>\n",
    "    \"\"\"))\n",
    "io.embed.file = file"
   ]
  },
  {
   "cell_type": "markdown",
   "metadata": {},
   "source": [
    "### Helper Embed <font color=\"red\">YouTube</font>"
   ]
  },
  {
   "cell_type": "code",
   "execution_count": null,
   "metadata": {},
   "outputs": [],
   "source": [
    "# Code creates youtube video\n",
    "def youtube(vid_url):\n",
    "    display(HTML(f\"\"\"\n",
    "    <div class=\"row\"><div class=\"col-xs-12 col-md-offset-3 col-md-6\">\n",
    "    <div class=\"embed-responsive embed-responsive-16by9\">\n",
    "      <iframe class=\"embed-responsive-item\" \n",
    "      src='{vid_url}'></iframe></div>\n",
    "    </div></div>\n",
    "    \"\"\"))\n",
    "io.embed.youtube = youtube"
   ]
  },
  {
   "cell_type": "markdown",
   "metadata": {},
   "source": [
    "This line make is shorter to run the *kernel.execute* command, which is used to run python from javascript"
   ]
  },
  {
   "cell_type": "code",
   "execution_count": null,
   "metadata": {},
   "outputs": [],
   "source": [
    "JS(\"var py = Jupyter.notebook.kernel\")"
   ]
  },
  {
   "cell_type": "markdown",
   "metadata": {},
   "source": [
    "ndex packages for get data to/from ndex"
   ]
  },
  {
   "cell_type": "code",
   "execution_count": null,
   "metadata": {},
   "outputs": [],
   "source": []
  },
  {
   "cell_type": "markdown",
   "metadata": {},
   "source": [
    "github package for getting data onto github"
   ]
  },
  {
   "cell_type": "code",
   "execution_count": null,
   "metadata": {},
   "outputs": [],
   "source": []
  },
  {
   "cell_type": "markdown",
   "metadata": {},
   "source": [
    "# <font color=\"red\">Stuff Moved to custom.js</font> <small><a href='https://github.com/pupster90/io_docker_setup/blob/master/custom.js'>(Github Link)</a><small>"
   ]
  },
  {
   "cell_type": "markdown",
   "metadata": {},
   "source": [
    "This is code that used to be inside of io_View but that got moved to:\n",
    "> `/home/jovyan/.jupyter/custom/custom.js`"
   ]
  },
  {
   "cell_type": "markdown",
   "metadata": {},
   "source": [
    "## Set Display\n",
    "<font color=\"red\">Note:</font> to reverse this feature you must rerun this cell with different numbers"
   ]
  },
  {
   "cell_type": "markdown",
   "metadata": {},
   "source": [
    "remove the enormous margins on both sides of the notebook"
   ]
  },
  {
   "cell_type": "markdown",
   "metadata": {},
   "source": [
    "``` python\n",
    "display(HTML(\"\"\"<style>\n",
    "*{margin:0; padding:0;} html, body, \\\n",
    "             .container{margin:0;!important padding:0;!important} \\\n",
    "             .container { width:100% !important;}\n",
    "</style>\"\"\"))\n",
    "```"
   ]
  },
  {
   "cell_type": "markdown",
   "metadata": {},
   "source": [
    "Change font size of text cells when rendered"
   ]
  },
  {
   "cell_type": "markdown",
   "metadata": {},
   "source": [
    "``` python\n",
    "display(HTML(\"\"\"<style>\n",
    "div.text_cell.rendered { /* Customize text cells */ \\\n",
    "    font-size:1.1em; \\\n",
    "    line-height:1.4em; \\\n",
    "} \\\n",
    "</style>\"\"\"))\n",
    "```"
   ]
  },
  {
   "cell_type": "markdown",
   "metadata": {},
   "source": [
    "Make Container Background white"
   ]
  },
  {
   "cell_type": "markdown",
   "metadata": {},
   "source": [
    "``` python\n",
    "display(HTML(\"\"\"<style>\n",
    "#notebook-container {\n",
    "    box-shadow: 0px 0px 0px 0px rgba(87, 87, 87, 0.2);\n",
    "}\n",
    "div#notebook {\n",
    "    background-color: White;\n",
    "}\n",
    ".end_space {\n",
    "    background-color: White;\n",
    "}\n",
    "</style>\"\"\"))\n",
    "```"
   ]
  },
  {
   "cell_type": "markdown",
   "metadata": {},
   "source": [
    "We make the little box to the left of the cell as small as possible"
   ]
  },
  {
   "cell_type": "markdown",
   "metadata": {},
   "source": [
    "``` python\n",
    "display(HTML(\"\"\"<style>\n",
    ".input_prompt {\n",
    "    margin:0;\n",
    "    padding:0;\n",
    "    min-width: 0ex;\n",
    "    font-size:.7em;\n",
    "}\n",
    ".prompt {\n",
    "    min-width: 2vw;\n",
    "}\n",
    "div.input_prompt bdi {\n",
    "    display: none;\n",
    "}\n",
    "div.input_prompt i {\n",
    "    font-size: 2em;\n",
    "    opacity: 0.7;\n",
    "}\n",
    "\n",
    "div.output_subarea { /* Makes html output width larger */\n",
    "    max-width: 100%\n",
    "}\n",
    "</style>\"\"\"))\n",
    "```"
   ]
  },
  {
   "cell_type": "markdown",
   "metadata": {},
   "source": [
    "make `display(HTML())` not take up any space when ran for styles and javascript"
   ]
  },
  {
   "cell_type": "markdown",
   "metadata": {
    "code_folding": []
   },
   "source": [
    "``` python\n",
    "display(HTML(\"\"\"<style>\n",
    "div.output_subarea {\n",
    "    padding: 0;\n",
    "}\n",
    "div.run_this_cell{\n",
    "    padding: 0;\n",
    "}\n",
    "</style>\"\"\"))\n",
    "```"
   ]
  },
  {
   "cell_type": "markdown",
   "metadata": {},
   "source": [
    "make scrolling WAY easier"
   ]
  },
  {
   "cell_type": "markdown",
   "metadata": {},
   "source": [
    "``` python\n",
    "display(HTML(\"\"\"<style>\n",
    "body {\n",
    "    -webkit-overflow-scrolling: touch;\n",
    "}\n",
    "</style>\"\"\"))\n",
    "```"
   ]
  },
  {
   "cell_type": "markdown",
   "metadata": {},
   "source": [
    "make <font color=\"green\">run</font> icons bigger"
   ]
  },
  {
   "cell_type": "markdown",
   "metadata": {},
   "source": [
    "``` python\n",
    "display(HTML(\"\"\"<style>\n",
    "div.run_this_cell i {\n",
    "    font-size: 2em;\n",
    "    opacity: 0.7;\n",
    "}\n",
    "</style>\"\"\"))\n",
    "```"
   ]
  },
  {
   "cell_type": "markdown",
   "metadata": {},
   "source": [
    "## Set Hot Keys"
   ]
  },
  {
   "cell_type": "markdown",
   "metadata": {},
   "source": [
    "``` python\n",
    "display(Javascript(\"\"\"\n",
    "// Movement between Cells\n",
    "Jupyter.keyboard_manager.command_shortcuts.add_shortcut('-', 'jupyter-notebook:select-previous-cell');\n",
    "Jupyter.keyboard_manager.command_shortcuts.add_shortcut('=', 'jupyter-notebook:select-next-cell');\n",
    "Jupyter.keyboard_manager.command_shortcuts.add_shortcut('shift--', 'jupyter-notebook:extend-selection-above');\n",
    "Jupyter.keyboard_manager.command_shortcuts.add_shortcut('shift-=', 'jupyter-notebook:extend-selection-below');\n",
    "Jupyter.keyboard_manager.command_shortcuts.add_shortcut('Ctrl-Shift--', 'jupyter-notebook:move-cell-up');\n",
    "Jupyter.keyboard_manager.command_shortcuts.add_shortcut('Ctrl-Shift-=', 'jupyter-notebook:move-cell-down');\n",
    "\n",
    "// Controls Collapssing\n",
    "Jupyter.keyboard_manager.command_shortcuts.add_shortcut(']', 'collapsible_headings:uncollapse_heading');\n",
    "Jupyter.keyboard_manager.command_shortcuts.add_shortcut('[', 'collapsible_headings:collapse_heading');\n",
    "Jupyter.keyboard_manager.command_shortcuts.add_shortcut('shift-]', 'collapsible_headings:uncollapse_all_headings');\n",
    "Jupyter.keyboard_manager.command_shortcuts.add_shortcut('shift-[', 'collapsible_headings:collapse_all_headings');\n",
    "\n",
    "// SKETCHY ONE // Entre command mode\n",
    "Jupyter.keyboard_manager.edit_shortcuts.add_shortcut('shift-backspace', 'jupyter-notebook:enter-command-mode');\n",
    "\"\"\"))\n",
    "```"
   ]
  },
  {
   "cell_type": "markdown",
   "metadata": {},
   "source": [
    "## Create Toolbar Buttons"
   ]
  },
  {
   "cell_type": "markdown",
   "metadata": {},
   "source": [
    "### Create <font color=\"green\">Start Button</font> "
   ]
  },
  {
   "cell_type": "markdown",
   "metadata": {},
   "source": [
    "Creates buton and function"
   ]
  },
  {
   "cell_type": "markdown",
   "metadata": {},
   "source": [
    "``` javascript\n",
    "%%javascript\n",
    "// creates button and function\n",
    "if( $(IPython.toolbar.selector.concat(' > #web-view')).length == 0 ){\n",
    "  IPython.toolbar.add_buttons_group([\n",
    "        {    'label'   : ' Web',\n",
    "             'icon'    : 'fa fa-lg fa-id-card-o',\n",
    "             'callback': function(){\n",
    "                 IPython.notebook.execute_all_cells();\n",
    "                 Jupyter.actions.call(\"collapsible_headings:collapse_all_headings\")\n",
    "                 Jupyter.actions.call(\"hide_header:toggle\")\n",
    "                 // hide code cells, if they are there\n",
    "                 if( document.getElementById(\"toggle_codecells\").getElementsByClassName(\"fa fa-eye\").length == 1 ){\n",
    "                     document.getElementById(\"toggle_codecells\").click();\n",
    "                     }\n",
    "             }\n",
    "        }\n",
    "    ], 'web-view');\n",
    "    // makes it look pretty\n",
    "    document.getElementById(\"web-view\").getElementsByClassName(\"btn btn-default\")[0].className=\"btn btn-lg btn-success\"\n",
    "} \n",
    "```"
   ]
  },
  {
   "cell_type": "markdown",
   "metadata": {},
   "source": [
    "### Create <font color=\"red\">Clean Button</font>"
   ]
  },
  {
   "cell_type": "markdown",
   "metadata": {},
   "source": [
    "``` javascript\n",
    "%%javascript\n",
    "// creates button and function\n",
    "if($(IPython.toolbar.selector.concat(' > #clean-view')).length == 0){\n",
    "  IPython.toolbar.add_buttons_group([\n",
    "        {    'label'   : ' ',\n",
    "             'icon'    : 'fa fa-lg fa-bolt',\n",
    "             'callback': function(){\n",
    "                 Jupyter.notebook.clear_all_output()\n",
    "                 Jupyter.actions.call(\"collapsible_headings:uncollapse_all_headings\")\n",
    "                 //document.getElementById(\"header\").style.display = \"block\"; //NO NEEDED, if they see the header\n",
    "                 // show code cells, if they are hidden\n",
    "                 if( document.getElementById(\"toggle_codecells\").getElementsByClassName(\"fa fa-eye-slash\").length == 1 ){\n",
    "                     document.getElementById(\"toggle_codecells\").click();\n",
    "                     }\n",
    "                 Jupyter.actions.call(\"widgets:save-clear-widgets\");\n",
    "                 Jupyter.notebook.save_checkpoint();\n",
    "                 }\n",
    "        }\n",
    "    ], 'clean-view');\n",
    "    // makes it look pretty\n",
    "    document.getElementById(\"clean-view\").getElementsByClassName(\"btn btn-default\")[0].className=\"btn btn-danger\"\n",
    "} \n",
    "```"
   ]
  },
  {
   "cell_type": "markdown",
   "metadata": {},
   "source": [
    "### <font color=\"gray\">Helper: How to find \"hide-header\"</font>"
   ]
  },
  {
   "cell_type": "markdown",
   "metadata": {},
   "source": [
    "Getting list of actions:"
   ]
  },
  {
   "cell_type": "markdown",
   "metadata": {},
   "source": [
    "``` javascript\n",
    "checkit = Object.keys(require('base/js/namespace').actions._actions);\n",
    "for( i in checkit){\n",
    "    console.log(checkit[i])\n",
    "}\n",
    "```"
   ]
  },
  {
   "cell_type": "markdown",
   "metadata": {},
   "source": [
    "From this if found the following jupyter action, which we then call:\n",
    "> <font color=\"red\">hide_header:toggle</font>\n"
   ]
  },
  {
   "cell_type": "code",
   "execution_count": null,
   "metadata": {},
   "outputs": [],
   "source": []
  }
 ],
 "metadata": {
  "hide_input": false,
  "kernelspec": {
   "display_name": "Python 3",
   "language": "python",
   "name": "python3"
  },
  "language_info": {
   "codemirror_mode": {
    "name": "ipython",
    "version": 3
   },
   "file_extension": ".py",
   "mimetype": "text/x-python",
   "name": "python",
   "nbconvert_exporter": "python",
   "pygments_lexer": "ipython3",
   "version": "3.7.4"
  },
  "toc": {
   "base_numbering": 1,
   "nav_menu": {},
   "number_sections": true,
   "sideBar": true,
   "skip_h1_title": false,
   "title_cell": "Table of Contents",
   "title_sidebar": "Contents",
   "toc_cell": false,
   "toc_position": {},
   "toc_section_display": true,
   "toc_window_display": false
  },
  "varInspector": {
   "cols": {
    "lenName": 16,
    "lenType": 16,
    "lenVar": 40
   },
   "kernels_config": {
    "python": {
     "delete_cmd_postfix": "",
     "delete_cmd_prefix": "del ",
     "library": "var_list.py",
     "varRefreshCmd": "print(var_dic_list())"
    },
    "r": {
     "delete_cmd_postfix": ") ",
     "delete_cmd_prefix": "rm(",
     "library": "var_list.r",
     "varRefreshCmd": "cat(var_dic_list()) "
    }
   },
   "types_to_exclude": [
    "module",
    "function",
    "builtin_function_or_method",
    "instance",
    "_Feature"
   ],
   "window_display": false
  },
  "widgets": {
   "application/vnd.jupyter.widget-state+json": {
    "state": {},
    "version_major": 2,
    "version_minor": 0
   }
  }
 },
 "nbformat": 4,
 "nbformat_minor": 4
}