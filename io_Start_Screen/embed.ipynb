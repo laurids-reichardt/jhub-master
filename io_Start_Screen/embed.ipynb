{
 "cells": [
  {
   "cell_type": "code",
   "execution_count": null,
   "metadata": {},
   "outputs": [],
   "source": [
    "\"\"\" Debug \n",
    "%run ~/Apps/io_View/embed.ipynb\n",
    "\"\"\""
   ]
  },
  {
   "cell_type": "code",
   "execution_count": null,
   "metadata": {},
   "outputs": [],
   "source": [
    "display(HTML(\n",
    "\"\"\"\n",
    "<h2>&nbsp</h2>\n",
    "<font size=12 face=\"Georgia\"> Welcome to ALI!</font>\n",
    "\"\"\"\n",
    "))"
   ]
  },
  {
   "cell_type": "code",
   "execution_count": null,
   "metadata": {},
   "outputs": [],
   "source": [
   "display(HTML(\"\"\"\n",
    "<p><b><font color=\"magenta\">If you want to know more about ALI click here: </font></b> <a href=\"https://www.pwc.de/de/im-fokus/digitale-abschlusspruefung/unsere-tools.html\">ALI Link</a>\n",
    "\"\"\"))"
   ]
  },
  {
   "cell_type": "code",
   "execution_count": null,
   "metadata": {
    "code_folding": []
   },
   "outputs": [],
   "source": [
    "# Code creates youtube video\n",
    "display(HTML(\"\"\"\n",
    "<p>This <b>PwC Youtube Video</b> gives a brief overview of <b><font color=\"magenta\">ALI :</font></b></p>\n",
    "<div class=\"row\"><div class=\"col-xs-12 col-md-offset-3 col-md-6\">\n",
    "<div class=\"embed-responsive embed-responsive-16by9\">\n",
    "  <iframe class=\"embed-responsive-item\" \n",
    "  src='https://www.youtube.com/embed/2ikFd7JRLRA'></iframe></div>\n",
    "</div></div>\n",
    "\"\"\"))"
   ]
  }
 ],
 "metadata": {
  "hide_input": false,
  "kernelspec": {
   "display_name": "Python 3",
   "language": "python",
   "name": "python3"
  },
  "language_info": {
   "codemirror_mode": {
    "name": "ipython",
    "version": 3
   },
   "file_extension": ".py",
   "mimetype": "text/x-python",
   "name": "python",
   "nbconvert_exporter": "python",
   "pygments_lexer": "ipython3",
   "version": "3.6.6"
  },
  "toc": {
   "base_numbering": 1,
   "nav_menu": {},
   "number_sections": true,
   "sideBar": true,
   "skip_h1_title": false,
   "title_cell": "Table of Contents",
   "title_sidebar": "Contents",
   "toc_cell": false,
   "toc_position": {},
   "toc_section_display": true,
   "toc_window_display": false
  },
  "varInspector": {
   "cols": {
    "lenName": 16,
    "lenType": 16,
    "lenVar": 40
   },
   "kernels_config": {
    "python": {
     "delete_cmd_postfix": "",
     "delete_cmd_prefix": "del ",
     "library": "var_list.py",
     "varRefreshCmd": "print(var_dic_list())"
    },
    "r": {
     "delete_cmd_postfix": ") ",
     "delete_cmd_prefix": "rm(",
     "library": "var_list.r",
     "varRefreshCmd": "cat(var_dic_list()) "
    }
   },
   "types_to_exclude": [
    "module",
    "function",
    "builtin_function_or_method",
    "instance",
    "_Feature"
   ],
   "window_display": false
  },
  "widgets": {
   "application/vnd.jupyter.widget-state+json": {
    "state": {
     "0443e279dc7f421ab44118d83a8021ab": {
      "model_module": "@jupyter-widgets/base",
      "model_module_version": "1.0.0",
      "model_name": "LayoutModel",
      "state": {
       "visibility": "hidden"
      }
     },
     "09ba8f9c70d64046a93768142e08b602": {
      "model_module": "@jupyter-widgets/controls",
      "model_module_version": "1.2.0",
      "model_name": "IntProgressModel",
      "state": {
       "bar_style": "success",
       "description": "Loading:",
       "layout": "IPY_MODEL_b9a219bad9a643c6b2713b2dd85354ca",
       "max": 8,
       "style": "IPY_MODEL_1db402f89c9243d4bd2574ce1a67878b"
      }
     },
     "0a56fce2d03045858bd4e37a5dae56ae": {
      "model_module": "@jupyter-widgets/controls",
      "model_module_version": "1.2.0",
      "model_name": "HBoxModel",
      "state": {
       "children": [
        "IPY_MODEL_2725098c9564483cb71712f8dbbe4881",
        "IPY_MODEL_2471abc53f4e4cca838cef1078f53ab8",
        "IPY_MODEL_78479fb554914342884978ed10e7c0c8"
       ],
       "layout": "IPY_MODEL_c640043149e742cfb78657b6d076af88"
      }
     },
     "1ced2aefb929441fb5a092b6288a2ce9": {
      "model_module": "@jupyter-widgets/base",
      "model_module_version": "1.0.0",
      "model_name": "LayoutModel",
      "state": {
       "visibility": "hidden"
      }
     },
     "1db402f89c9243d4bd2574ce1a67878b": {
      "model_module": "@jupyter-widgets/controls",
      "model_module_version": "1.2.0",
      "model_name": "ProgressStyleModel",
      "state": {
       "description_width": ""
      }
     },
     "2471abc53f4e4cca838cef1078f53ab8": {
      "model_module": "@jupyter-widgets/controls",
      "model_module_version": "1.2.0",
      "model_name": "IntProgressModel",
      "state": {
       "bar_style": "success",
       "description": "Loading:",
       "layout": "IPY_MODEL_d94fe7eba8c843d9b1509ae21a5d2c30",
       "max": 7,
       "style": "IPY_MODEL_863e27de8e2a4fe5a581bb417ec919a1",
       "value": 7
      }
     },
     "24bb2511c36643979235f42d4b608eb3": {
      "model_module": "@jupyter-widgets/controls",
      "model_module_version": "1.2.0",
      "model_name": "HBoxModel",
      "state": {
       "children": [
        "IPY_MODEL_855b9503f9f649d1b51e962872b223b3",
        "IPY_MODEL_09ba8f9c70d64046a93768142e08b602",
        "IPY_MODEL_e4cd439e831b45b1802158277263537b"
       ],
       "layout": "IPY_MODEL_eb59756b18a644cda585a6c3a60adbcb"
      }
     },
     "2725098c9564483cb71712f8dbbe4881": {
      "model_module": "@jupyter-widgets/controls",
      "model_module_version": "1.2.0",
      "model_name": "ButtonModel",
      "state": {
       "button_style": "success",
       "description": "start",
       "layout": "IPY_MODEL_c3786e9299984d5183e642303dad9ae9",
       "style": "IPY_MODEL_2d91f8d2d9d740d587d3f2e4375b9acc"
      }
     },
     "2c1d12176db1421fbff8ec532093beea": {
      "model_module": "@jupyter-widgets/controls",
      "model_module_version": "1.2.0",
      "model_name": "DescriptionStyleModel",
      "state": {
       "description_width": ""
      }
     },
     "2d91f8d2d9d740d587d3f2e4375b9acc": {
      "model_module": "@jupyter-widgets/controls",
      "model_module_version": "1.2.0",
      "model_name": "ButtonStyleModel",
      "state": {}
     },
     "32ec596c329441a6a6b778f772bc79c7": {
      "model_module": "@jupyter-widgets/base",
      "model_module_version": "1.0.0",
      "model_name": "LayoutModel",
      "state": {
       "visibility": "hidden"
      }
     },
     "3331cd43802643fd83613da0bd7d48a7": {
      "model_module": "@jupyter-widgets/controls",
      "model_module_version": "1.2.0",
      "model_name": "IntProgressModel",
      "state": {
       "bar_style": "success",
       "description": "Loading:",
       "layout": "IPY_MODEL_ca0d4d5f72064b2e9ffbaab9fda6b7d2",
       "max": 8,
       "style": "IPY_MODEL_b7d696510a5b478f9273a4e18c7aae41"
      }
     },
     "34991a9c50d74db5844f00d657b7fdfa": {
      "model_module": "@jupyter-widgets/controls",
      "model_module_version": "1.2.0",
      "model_name": "ProgressStyleModel",
      "state": {
       "description_width": ""
      }
     },
     "34af250a8bee4548af4354916ec6f21d": {
      "model_module": "@jupyter-widgets/controls",
      "model_module_version": "1.2.0",
      "model_name": "HBoxModel",
      "state": {
       "children": [
        "IPY_MODEL_48a055eb1e3f452c8c76b3a15db5bb73",
        "IPY_MODEL_3331cd43802643fd83613da0bd7d48a7",
        "IPY_MODEL_5a79957b4191427b95adeed0d15efde4"
       ],
       "layout": "IPY_MODEL_7eaa789682a0489faf824d03b284f075"
      }
     },
     "3bfe3c1b7bfb40879058fdb8d324c6a0": {
      "model_module": "@jupyter-widgets/base",
      "model_module_version": "1.0.0",
      "model_name": "LayoutModel",
      "state": {
       "visibility": "hidden"
      }
     },
     "3d25ec38362c462096d53241cf73beac": {
      "model_module": "@jupyter-widgets/base",
      "model_module_version": "1.0.0",
      "model_name": "LayoutModel",
      "state": {
       "align_items": "center"
      }
     },
     "42752ef4649d46ecb437003e7d095f9e": {
      "model_module": "@jupyter-widgets/controls",
      "model_module_version": "1.2.0",
      "model_name": "DescriptionStyleModel",
      "state": {
       "description_width": ""
      }
     },
     "47e72303f1b0468697918bd1f620c9a8": {
      "model_module": "@jupyter-widgets/controls",
      "model_module_version": "1.2.0",
      "model_name": "ButtonStyleModel",
      "state": {}
     },
     "48a055eb1e3f452c8c76b3a15db5bb73": {
      "model_module": "@jupyter-widgets/controls",
      "model_module_version": "1.2.0",
      "model_name": "ButtonModel",
      "state": {
       "button_style": "success",
       "description": "start",
       "layout": "IPY_MODEL_a6a77afe961e430e90debf4f3e99c4bc",
       "style": "IPY_MODEL_58e3904ea29b4267b792005fa9fc2a1f"
      }
     },
     "4a813d4779ef47c79a93a4107cfe4d64": {
      "model_module": "@jupyter-widgets/controls",
      "model_module_version": "1.2.0",
      "model_name": "HTMLMathModel",
      "state": {
       "layout": "IPY_MODEL_1ced2aefb929441fb5a092b6288a2ce9",
       "style": "IPY_MODEL_e38689eb06174856bc53efaa1a93cac1",
       "value": "<h1 class='text-success' style='margin:0'>&nbsp Finished!</h1>"
      }
     },
     "58e3904ea29b4267b792005fa9fc2a1f": {
      "model_module": "@jupyter-widgets/controls",
      "model_module_version": "1.2.0",
      "model_name": "ButtonStyleModel",
      "state": {}
     },
     "5a79957b4191427b95adeed0d15efde4": {
      "model_module": "@jupyter-widgets/controls",
      "model_module_version": "1.2.0",
      "model_name": "HTMLMathModel",
      "state": {
       "layout": "IPY_MODEL_32ec596c329441a6a6b778f772bc79c7",
       "style": "IPY_MODEL_2c1d12176db1421fbff8ec532093beea",
       "value": "<h1 class='text-success' style='margin:0'>&nbsp Finished!</h1>"
      }
     },
     "5b8e2b71077946308dcb715a5b4dc448": {
      "model_module": "@jupyter-widgets/controls",
      "model_module_version": "1.2.0",
      "model_name": "HBoxModel",
      "state": {
       "children": [
        "IPY_MODEL_6377e0b4d47844fc99fe9c7bfa887063",
        "IPY_MODEL_94b4d6161e27415381bd3fed9c580b52",
        "IPY_MODEL_4a813d4779ef47c79a93a4107cfe4d64"
       ],
       "layout": "IPY_MODEL_b0d3f981d37b472582fd2584394c22c5"
      }
     },
     "6377e0b4d47844fc99fe9c7bfa887063": {
      "model_module": "@jupyter-widgets/controls",
      "model_module_version": "1.2.0",
      "model_name": "ButtonModel",
      "state": {
       "button_style": "success",
       "description": "start",
       "layout": "IPY_MODEL_a19c8128f6be4903b88f2a34661cd20f",
       "style": "IPY_MODEL_d2eb62689bcf4639a4347d4e9130d147"
      }
     },
     "6be39cd7465146f48d234b55060fbf1f": {
      "model_module": "@jupyter-widgets/base",
      "model_module_version": "1.0.0",
      "model_name": "LayoutModel",
      "state": {
       "visibility": "hidden"
      }
     },
     "6dab4547010a4034a14cdc59e26f64d3": {
      "model_module": "@jupyter-widgets/base",
      "model_module_version": "1.0.0",
      "model_name": "LayoutModel",
      "state": {}
     },
     "78479fb554914342884978ed10e7c0c8": {
      "model_module": "@jupyter-widgets/controls",
      "model_module_version": "1.2.0",
      "model_name": "HTMLMathModel",
      "state": {
       "layout": "IPY_MODEL_bc7d2a61f6364febbe9419205f44e3d7",
       "style": "IPY_MODEL_c047988a661b4b64a8974edb281e6dd7",
       "value": "<h1 class='text-success' style='margin:0'>&nbsp Finished!</h1>"
      }
     },
     "7eaa789682a0489faf824d03b284f075": {
      "model_module": "@jupyter-widgets/base",
      "model_module_version": "1.0.0",
      "model_name": "LayoutModel",
      "state": {
       "align_items": "center"
      }
     },
     "855b9503f9f649d1b51e962872b223b3": {
      "model_module": "@jupyter-widgets/controls",
      "model_module_version": "1.2.0",
      "model_name": "ButtonModel",
      "state": {
       "button_style": "success",
       "description": "start",
       "layout": "IPY_MODEL_fdbf7bfc0c41498ea9fe8d0dab4f51f1",
       "style": "IPY_MODEL_e9ca50b631f347f4b62e99e78c9db745"
      }
     },
     "863e27de8e2a4fe5a581bb417ec919a1": {
      "model_module": "@jupyter-widgets/controls",
      "model_module_version": "1.2.0",
      "model_name": "ProgressStyleModel",
      "state": {
       "description_width": ""
      }
     },
     "8cac9dffccb241acb565d26531e5a60a": {
      "model_module": "@jupyter-widgets/base",
      "model_module_version": "1.0.0",
      "model_name": "LayoutModel",
      "state": {
       "visibility": "hidden"
      }
     },
     "8e811d4d52df4410b82edc04edd12760": {
      "model_module": "@jupyter-widgets/controls",
      "model_module_version": "1.2.0",
      "model_name": "HBoxModel",
      "state": {
       "children": [
        "IPY_MODEL_db2ad322655441f18e893a04b83d7b34",
        "IPY_MODEL_a134a5f63adc435c91f8cb7494d895c1",
        "IPY_MODEL_e221c59bd891494c8cece4c4ac559188"
       ],
       "layout": "IPY_MODEL_3d25ec38362c462096d53241cf73beac"
      }
     },
     "94b4d6161e27415381bd3fed9c580b52": {
      "model_module": "@jupyter-widgets/controls",
      "model_module_version": "1.2.0",
      "model_name": "IntProgressModel",
      "state": {
       "bar_style": "success",
       "description": "Loading:",
       "layout": "IPY_MODEL_0443e279dc7f421ab44118d83a8021ab",
       "max": 8,
       "style": "IPY_MODEL_e3560b379742445d94c1ce5519fedd93"
      }
     },
     "9bdbbf19ea984a6dad612467ee654c81": {
      "model_module": "@jupyter-widgets/controls",
      "model_module_version": "1.2.0",
      "model_name": "DescriptionStyleModel",
      "state": {
       "description_width": ""
      }
     },
     "a134a5f63adc435c91f8cb7494d895c1": {
      "model_module": "@jupyter-widgets/controls",
      "model_module_version": "1.2.0",
      "model_name": "IntProgressModel",
      "state": {
       "bar_style": "success",
       "description": "Loading:",
       "layout": "IPY_MODEL_8cac9dffccb241acb565d26531e5a60a",
       "max": 8,
       "style": "IPY_MODEL_34991a9c50d74db5844f00d657b7fdfa"
      }
     },
     "a19c8128f6be4903b88f2a34661cd20f": {
      "model_module": "@jupyter-widgets/base",
      "model_module_version": "1.0.0",
      "model_name": "LayoutModel",
      "state": {}
     },
     "a6a77afe961e430e90debf4f3e99c4bc": {
      "model_module": "@jupyter-widgets/base",
      "model_module_version": "1.0.0",
      "model_name": "LayoutModel",
      "state": {}
     },
     "b0d3f981d37b472582fd2584394c22c5": {
      "model_module": "@jupyter-widgets/base",
      "model_module_version": "1.0.0",
      "model_name": "LayoutModel",
      "state": {
       "align_items": "center"
      }
     },
     "b7d696510a5b478f9273a4e18c7aae41": {
      "model_module": "@jupyter-widgets/controls",
      "model_module_version": "1.2.0",
      "model_name": "ProgressStyleModel",
      "state": {
       "description_width": ""
      }
     },
     "b9a219bad9a643c6b2713b2dd85354ca": {
      "model_module": "@jupyter-widgets/base",
      "model_module_version": "1.0.0",
      "model_name": "LayoutModel",
      "state": {
       "visibility": "hidden"
      }
     },
     "bc7d2a61f6364febbe9419205f44e3d7": {
      "model_module": "@jupyter-widgets/base",
      "model_module_version": "1.0.0",
      "model_name": "LayoutModel",
      "state": {
       "visibility": "visible"
      }
     },
     "c047988a661b4b64a8974edb281e6dd7": {
      "model_module": "@jupyter-widgets/controls",
      "model_module_version": "1.2.0",
      "model_name": "DescriptionStyleModel",
      "state": {
       "description_width": ""
      }
     },
     "c3786e9299984d5183e642303dad9ae9": {
      "model_module": "@jupyter-widgets/base",
      "model_module_version": "1.0.0",
      "model_name": "LayoutModel",
      "state": {}
     },
     "c640043149e742cfb78657b6d076af88": {
      "model_module": "@jupyter-widgets/base",
      "model_module_version": "1.0.0",
      "model_name": "LayoutModel",
      "state": {
       "align_items": "center"
      }
     },
     "ca0d4d5f72064b2e9ffbaab9fda6b7d2": {
      "model_module": "@jupyter-widgets/base",
      "model_module_version": "1.0.0",
      "model_name": "LayoutModel",
      "state": {
       "visibility": "hidden"
      }
     },
     "d2eb62689bcf4639a4347d4e9130d147": {
      "model_module": "@jupyter-widgets/controls",
      "model_module_version": "1.2.0",
      "model_name": "ButtonStyleModel",
      "state": {}
     },
     "d94fe7eba8c843d9b1509ae21a5d2c30": {
      "model_module": "@jupyter-widgets/base",
      "model_module_version": "1.0.0",
      "model_name": "LayoutModel",
      "state": {
       "visibility": "visible"
      }
     },
     "db2ad322655441f18e893a04b83d7b34": {
      "model_module": "@jupyter-widgets/controls",
      "model_module_version": "1.2.0",
      "model_name": "ButtonModel",
      "state": {
       "button_style": "success",
       "description": "start",
       "layout": "IPY_MODEL_6dab4547010a4034a14cdc59e26f64d3",
       "style": "IPY_MODEL_47e72303f1b0468697918bd1f620c9a8"
      }
     },
     "e221c59bd891494c8cece4c4ac559188": {
      "model_module": "@jupyter-widgets/controls",
      "model_module_version": "1.2.0",
      "model_name": "HTMLMathModel",
      "state": {
       "layout": "IPY_MODEL_6be39cd7465146f48d234b55060fbf1f",
       "style": "IPY_MODEL_9bdbbf19ea984a6dad612467ee654c81",
       "value": "<h1 class='text-success' style='margin:0'>&nbsp Finished!</h1>"
      }
     },
     "e3560b379742445d94c1ce5519fedd93": {
      "model_module": "@jupyter-widgets/controls",
      "model_module_version": "1.2.0",
      "model_name": "ProgressStyleModel",
      "state": {
       "description_width": ""
      }
     },
     "e38689eb06174856bc53efaa1a93cac1": {
      "model_module": "@jupyter-widgets/controls",
      "model_module_version": "1.2.0",
      "model_name": "DescriptionStyleModel",
      "state": {
       "description_width": ""
      }
     },
     "e4cd439e831b45b1802158277263537b": {
      "model_module": "@jupyter-widgets/controls",
      "model_module_version": "1.2.0",
      "model_name": "HTMLMathModel",
      "state": {
       "layout": "IPY_MODEL_3bfe3c1b7bfb40879058fdb8d324c6a0",
       "style": "IPY_MODEL_42752ef4649d46ecb437003e7d095f9e",
       "value": "<h1 class='text-success' style='margin:0'>&nbsp Finished!</h1>"
      }
     },
     "e9ca50b631f347f4b62e99e78c9db745": {
      "model_module": "@jupyter-widgets/controls",
      "model_module_version": "1.2.0",
      "model_name": "ButtonStyleModel",
      "state": {}
     },
     "eb59756b18a644cda585a6c3a60adbcb": {
      "model_module": "@jupyter-widgets/base",
      "model_module_version": "1.0.0",
      "model_name": "LayoutModel",
      "state": {
       "align_items": "center"
      }
     },
     "fdbf7bfc0c41498ea9fe8d0dab4f51f1": {
      "model_module": "@jupyter-widgets/base",
      "model_module_version": "1.0.0",
      "model_name": "LayoutModel",
      "state": {}
     }
    },
    "version_major": 2,
    "version_minor": 0
   }
  }
 },
 "nbformat": 4,
 "nbformat_minor": 2
}